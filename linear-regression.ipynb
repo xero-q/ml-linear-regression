{
 "cells": [
  {
   "cell_type": "code",
   "execution_count": 1,
   "id": "be0c7053-db60-47a7-9e61-4b734286f00f",
   "metadata": {},
   "outputs": [],
   "source": [
    "import pandas as pd\n",
    "import numpy as np"
   ]
  },
  {
   "cell_type": "code",
   "execution_count": 2,
   "id": "20adddff-3879-4fb5-b1df-359e9a29c8e7",
   "metadata": {},
   "outputs": [],
   "source": [
    "df = pd.read_csv('athletes.csv')"
   ]
  },
  {
   "cell_type": "code",
   "execution_count": 3,
   "id": "3d0911c4-4d93-4906-868a-f9651ab0f437",
   "metadata": {},
   "outputs": [
    {
     "data": {
      "text/html": [
       "<div>\n",
       "<style scoped>\n",
       "    .dataframe tbody tr th:only-of-type {\n",
       "        vertical-align: middle;\n",
       "    }\n",
       "\n",
       "    .dataframe tbody tr th {\n",
       "        vertical-align: top;\n",
       "    }\n",
       "\n",
       "    .dataframe thead th {\n",
       "        text-align: right;\n",
       "    }\n",
       "</style>\n",
       "<table border=\"1\" class=\"dataframe\">\n",
       "  <thead>\n",
       "    <tr style=\"text-align: right;\">\n",
       "      <th></th>\n",
       "      <th>code</th>\n",
       "      <th>name</th>\n",
       "      <th>name_short</th>\n",
       "      <th>name_tv</th>\n",
       "      <th>gender</th>\n",
       "      <th>function</th>\n",
       "      <th>country_code</th>\n",
       "      <th>country</th>\n",
       "      <th>country_full</th>\n",
       "      <th>nationality</th>\n",
       "      <th>nationality_full</th>\n",
       "      <th>nationality_code</th>\n",
       "      <th>height</th>\n",
       "      <th>weight</th>\n",
       "      <th>disciplines</th>\n",
       "      <th>events</th>\n",
       "      <th>birth_date</th>\n",
       "    </tr>\n",
       "  </thead>\n",
       "  <tbody>\n",
       "    <tr>\n",
       "      <th>0</th>\n",
       "      <td>1535420</td>\n",
       "      <td>VALENCIA Alejandra</td>\n",
       "      <td>VALENCIA A</td>\n",
       "      <td>Alejandra VALENCIA</td>\n",
       "      <td>Female</td>\n",
       "      <td>Athlete</td>\n",
       "      <td>MEX</td>\n",
       "      <td>Mexico</td>\n",
       "      <td>Mexico</td>\n",
       "      <td>Mexico</td>\n",
       "      <td>Mexico</td>\n",
       "      <td>MEX</td>\n",
       "      <td>0</td>\n",
       "      <td>0.0</td>\n",
       "      <td>['Archery']</td>\n",
       "      <td>[\"Women's Individual\", \"Women's Team\", 'Mixed ...</td>\n",
       "      <td>1994-10-17</td>\n",
       "    </tr>\n",
       "    <tr>\n",
       "      <th>1</th>\n",
       "      <td>1535429</td>\n",
       "      <td>RUIZ Angela</td>\n",
       "      <td>RUIZ A</td>\n",
       "      <td>Angela RUIZ</td>\n",
       "      <td>Female</td>\n",
       "      <td>Athlete</td>\n",
       "      <td>MEX</td>\n",
       "      <td>Mexico</td>\n",
       "      <td>Mexico</td>\n",
       "      <td>Mexico</td>\n",
       "      <td>Mexico</td>\n",
       "      <td>MEX</td>\n",
       "      <td>0</td>\n",
       "      <td>0.0</td>\n",
       "      <td>['Archery']</td>\n",
       "      <td>[\"Women's Individual\", \"Women's Team\"]</td>\n",
       "      <td>2006-07-28</td>\n",
       "    </tr>\n",
       "    <tr>\n",
       "      <th>2</th>\n",
       "      <td>1535430</td>\n",
       "      <td>GRANDE Matias</td>\n",
       "      <td>GRANDE M</td>\n",
       "      <td>Matias GRANDE</td>\n",
       "      <td>Male</td>\n",
       "      <td>Athlete</td>\n",
       "      <td>MEX</td>\n",
       "      <td>Mexico</td>\n",
       "      <td>Mexico</td>\n",
       "      <td>Mexico</td>\n",
       "      <td>Mexico</td>\n",
       "      <td>MEX</td>\n",
       "      <td>0</td>\n",
       "      <td>0.0</td>\n",
       "      <td>['Archery']</td>\n",
       "      <td>[\"Men's Individual\", \"Men's Team\", 'Mixed Team']</td>\n",
       "      <td>2004-04-26</td>\n",
       "    </tr>\n",
       "    <tr>\n",
       "      <th>3</th>\n",
       "      <td>1536460</td>\n",
       "      <td>ROJAS Carlos</td>\n",
       "      <td>ROJAS C</td>\n",
       "      <td>Carlos ROJAS</td>\n",
       "      <td>Male</td>\n",
       "      <td>Athlete</td>\n",
       "      <td>MEX</td>\n",
       "      <td>Mexico</td>\n",
       "      <td>Mexico</td>\n",
       "      <td>Mexico</td>\n",
       "      <td>Mexico</td>\n",
       "      <td>MEX</td>\n",
       "      <td>0</td>\n",
       "      <td>0.0</td>\n",
       "      <td>['Archery']</td>\n",
       "      <td>[\"Men's Individual\", \"Men's Team\"]</td>\n",
       "      <td>2000-01-14</td>\n",
       "    </tr>\n",
       "    <tr>\n",
       "      <th>4</th>\n",
       "      <td>1536467</td>\n",
       "      <td>MARTINEZ WING Bruno</td>\n",
       "      <td>MARTINEZ WING B</td>\n",
       "      <td>Bruno MARTINEZ WING</td>\n",
       "      <td>Male</td>\n",
       "      <td>Athlete</td>\n",
       "      <td>MEX</td>\n",
       "      <td>Mexico</td>\n",
       "      <td>Mexico</td>\n",
       "      <td>Mexico</td>\n",
       "      <td>Mexico</td>\n",
       "      <td>MEX</td>\n",
       "      <td>0</td>\n",
       "      <td>0.0</td>\n",
       "      <td>['Archery']</td>\n",
       "      <td>[\"Men's Individual\", \"Men's Team\"]</td>\n",
       "      <td>1998-03-08</td>\n",
       "    </tr>\n",
       "  </tbody>\n",
       "</table>\n",
       "</div>"
      ],
      "text/plain": [
       "      code                 name       name_short              name_tv  gender  \\\n",
       "0  1535420   VALENCIA Alejandra       VALENCIA A   Alejandra VALENCIA  Female   \n",
       "1  1535429          RUIZ Angela           RUIZ A          Angela RUIZ  Female   \n",
       "2  1535430        GRANDE Matias         GRANDE M        Matias GRANDE    Male   \n",
       "3  1536460         ROJAS Carlos          ROJAS C         Carlos ROJAS    Male   \n",
       "4  1536467  MARTINEZ WING Bruno  MARTINEZ WING B  Bruno MARTINEZ WING    Male   \n",
       "\n",
       "  function country_code country country_full nationality nationality_full  \\\n",
       "0  Athlete          MEX  Mexico       Mexico      Mexico           Mexico   \n",
       "1  Athlete          MEX  Mexico       Mexico      Mexico           Mexico   \n",
       "2  Athlete          MEX  Mexico       Mexico      Mexico           Mexico   \n",
       "3  Athlete          MEX  Mexico       Mexico      Mexico           Mexico   \n",
       "4  Athlete          MEX  Mexico       Mexico      Mexico           Mexico   \n",
       "\n",
       "  nationality_code  height  weight  disciplines  \\\n",
       "0              MEX       0     0.0  ['Archery']   \n",
       "1              MEX       0     0.0  ['Archery']   \n",
       "2              MEX       0     0.0  ['Archery']   \n",
       "3              MEX       0     0.0  ['Archery']   \n",
       "4              MEX       0     0.0  ['Archery']   \n",
       "\n",
       "                                              events  birth_date  \n",
       "0  [\"Women's Individual\", \"Women's Team\", 'Mixed ...  1994-10-17  \n",
       "1             [\"Women's Individual\", \"Women's Team\"]  2006-07-28  \n",
       "2   [\"Men's Individual\", \"Men's Team\", 'Mixed Team']  2004-04-26  \n",
       "3                 [\"Men's Individual\", \"Men's Team\"]  2000-01-14  \n",
       "4                 [\"Men's Individual\", \"Men's Team\"]  1998-03-08  "
      ]
     },
     "execution_count": 3,
     "metadata": {},
     "output_type": "execute_result"
    }
   ],
   "source": [
    "df.head()"
   ]
  },
  {
   "cell_type": "code",
   "execution_count": 4,
   "id": "e04c0a0a-2a8a-4ac7-b035-e9d02044c389",
   "metadata": {},
   "outputs": [
    {
     "data": {
      "text/plain": [
       "gender\n",
       "Male      5655\n",
       "Female    5460\n",
       "Name: count, dtype: int64"
      ]
     },
     "execution_count": 4,
     "metadata": {},
     "output_type": "execute_result"
    }
   ],
   "source": [
    "df['gender'].value_counts()"
   ]
  },
  {
   "cell_type": "code",
   "execution_count": 5,
   "id": "f452b1eb-d9c6-484b-bdfb-9637fd28f39d",
   "metadata": {},
   "outputs": [
    {
     "data": {
      "text/plain": [
       "country_code\n",
       "USA    620\n",
       "FRA    600\n",
       "AUS    476\n",
       "GER    457\n",
       "JPN    432\n",
       "      ... \n",
       "ASA      2\n",
       "SOM      1\n",
       "BIZ      1\n",
       "NRU      1\n",
       "LIE      1\n",
       "Name: count, Length: 206, dtype: int64"
      ]
     },
     "execution_count": 5,
     "metadata": {},
     "output_type": "execute_result"
    }
   ],
   "source": [
    "df['country_code'].value_counts()"
   ]
  },
  {
   "cell_type": "code",
   "execution_count": 6,
   "id": "22b87e3e-561b-48f1-876d-a4d4b54ea417",
   "metadata": {},
   "outputs": [
    {
     "data": {
      "text/html": [
       "<div>\n",
       "<style scoped>\n",
       "    .dataframe tbody tr th:only-of-type {\n",
       "        vertical-align: middle;\n",
       "    }\n",
       "\n",
       "    .dataframe tbody tr th {\n",
       "        vertical-align: top;\n",
       "    }\n",
       "\n",
       "    .dataframe thead th {\n",
       "        text-align: right;\n",
       "    }\n",
       "</style>\n",
       "<table border=\"1\" class=\"dataframe\">\n",
       "  <thead>\n",
       "    <tr style=\"text-align: right;\">\n",
       "      <th></th>\n",
       "      <th>code</th>\n",
       "      <th>height</th>\n",
       "      <th>weight</th>\n",
       "    </tr>\n",
       "  </thead>\n",
       "  <tbody>\n",
       "    <tr>\n",
       "      <th>count</th>\n",
       "      <td>1.111500e+04</td>\n",
       "      <td>11115.000000</td>\n",
       "      <td>11099.000000</td>\n",
       "    </tr>\n",
       "    <tr>\n",
       "      <th>mean</th>\n",
       "      <td>1.887426e+06</td>\n",
       "      <td>81.835178</td>\n",
       "      <td>2.213713</td>\n",
       "    </tr>\n",
       "    <tr>\n",
       "      <th>std</th>\n",
       "      <td>3.587687e+05</td>\n",
       "      <td>89.504711</td>\n",
       "      <td>13.114771</td>\n",
       "    </tr>\n",
       "    <tr>\n",
       "      <th>min</th>\n",
       "      <td>1.532872e+06</td>\n",
       "      <td>0.000000</td>\n",
       "      <td>0.000000</td>\n",
       "    </tr>\n",
       "    <tr>\n",
       "      <th>25%</th>\n",
       "      <td>1.888186e+06</td>\n",
       "      <td>0.000000</td>\n",
       "      <td>0.000000</td>\n",
       "    </tr>\n",
       "    <tr>\n",
       "      <th>50%</th>\n",
       "      <td>1.918842e+06</td>\n",
       "      <td>0.000000</td>\n",
       "      <td>0.000000</td>\n",
       "    </tr>\n",
       "    <tr>\n",
       "      <th>75%</th>\n",
       "      <td>1.948950e+06</td>\n",
       "      <td>177.000000</td>\n",
       "      <td>0.000000</td>\n",
       "    </tr>\n",
       "    <tr>\n",
       "      <th>max</th>\n",
       "      <td>9.460001e+06</td>\n",
       "      <td>222.000000</td>\n",
       "      <td>113.000000</td>\n",
       "    </tr>\n",
       "  </tbody>\n",
       "</table>\n",
       "</div>"
      ],
      "text/plain": [
       "               code        height        weight\n",
       "count  1.111500e+04  11115.000000  11099.000000\n",
       "mean   1.887426e+06     81.835178      2.213713\n",
       "std    3.587687e+05     89.504711     13.114771\n",
       "min    1.532872e+06      0.000000      0.000000\n",
       "25%    1.888186e+06      0.000000      0.000000\n",
       "50%    1.918842e+06      0.000000      0.000000\n",
       "75%    1.948950e+06    177.000000      0.000000\n",
       "max    9.460001e+06    222.000000    113.000000"
      ]
     },
     "execution_count": 6,
     "metadata": {},
     "output_type": "execute_result"
    }
   ],
   "source": [
    "df.describe()"
   ]
  },
  {
   "cell_type": "code",
   "execution_count": 7,
   "id": "d3215273-e716-4224-a0e8-38e4a41a1996",
   "metadata": {},
   "outputs": [
    {
     "name": "stdout",
     "output_type": "stream",
     "text": [
      "<class 'pandas.core.frame.DataFrame'>\n",
      "RangeIndex: 11115 entries, 0 to 11114\n",
      "Data columns (total 17 columns):\n",
      " #   Column            Non-Null Count  Dtype  \n",
      "---  ------            --------------  -----  \n",
      " 0   code              11115 non-null  int64  \n",
      " 1   name              11115 non-null  object \n",
      " 2   name_short        11115 non-null  object \n",
      " 3   name_tv           11115 non-null  object \n",
      " 4   gender            11115 non-null  object \n",
      " 5   function          11115 non-null  object \n",
      " 6   country_code      11115 non-null  object \n",
      " 7   country           11115 non-null  object \n",
      " 8   country_full      11115 non-null  object \n",
      " 9   nationality       11115 non-null  object \n",
      " 10  nationality_full  11115 non-null  object \n",
      " 11  nationality_code  11115 non-null  object \n",
      " 12  height            11115 non-null  int64  \n",
      " 13  weight            11099 non-null  float64\n",
      " 14  disciplines       11115 non-null  object \n",
      " 15  events            11115 non-null  object \n",
      " 16  birth_date        11115 non-null  object \n",
      "dtypes: float64(1), int64(2), object(14)\n",
      "memory usage: 1.4+ MB\n"
     ]
    }
   ],
   "source": [
    "df.info()"
   ]
  },
  {
   "cell_type": "code",
   "execution_count": 8,
   "id": "58025bd8-6e00-416d-b730-7adbe7b35c3a",
   "metadata": {},
   "outputs": [],
   "source": [
    "from datetime import date, datetime\n",
    "def calculate_age(dob):\n",
    "    today = date.today()\n",
    "    dob_date = datetime.strptime(dob,'%Y-%m-%d')\n",
    "    return today.year - dob_date.year - ((today.month,today.day) < (dob_date.month,dob_date.day))"
   ]
  },
  {
   "cell_type": "code",
   "execution_count": 9,
   "id": "b626d202-e153-47b5-a79c-d6ddfd90ef48",
   "metadata": {},
   "outputs": [],
   "source": [
    "df['age'] = df['birth_date'].apply(calculate_age)"
   ]
  },
  {
   "cell_type": "code",
   "execution_count": 10,
   "id": "289099b6-bfd4-4693-9dc0-df0d43fbe3d7",
   "metadata": {},
   "outputs": [
    {
     "name": "stderr",
     "output_type": "stream",
     "text": [
      "/tmp/ipykernel_63457/35551863.py:1: FutureWarning: Downcasting behavior in `replace` is deprecated and will be removed in a future version. To retain the old behavior, explicitly call `result.infer_objects(copy=False)`. To opt-in to the future behavior, set `pd.set_option('future.no_silent_downcasting', True)`\n",
      "  df['gender'] = df['gender'].replace({'Male':0,'Female':1})\n"
     ]
    }
   ],
   "source": [
    "df['gender'] = df['gender'].replace({'Male':0,'Female':1})"
   ]
  },
  {
   "cell_type": "code",
   "execution_count": 11,
   "id": "d78c4d46-aa71-4f3c-8d03-ee749767c7aa",
   "metadata": {},
   "outputs": [],
   "source": [
    "height_weight_gt_0 = (df['height'] > 0) & (df['weight'] > 0)"
   ]
  },
  {
   "cell_type": "code",
   "execution_count": 12,
   "id": "51454232-6dec-43f4-a97a-4c6eb8072abb",
   "metadata": {},
   "outputs": [],
   "source": [
    "df_clean = df[height_weight_gt_0]"
   ]
  },
  {
   "cell_type": "code",
   "execution_count": 13,
   "id": "906b6676-6461-426d-81e6-76704e501063",
   "metadata": {},
   "outputs": [],
   "source": [
    "corr_matrix = df_clean.corr(numeric_only=True)\n"
   ]
  },
  {
   "cell_type": "code",
   "execution_count": 14,
   "id": "11d28ba4-a624-441e-9cea-9230c9b11ad5",
   "metadata": {},
   "outputs": [
    {
     "data": {
      "text/plain": [
       "weight    1.000000\n",
       "height    0.850432\n",
       "code      0.101765\n",
       "age       0.037125\n",
       "gender   -0.804444\n",
       "Name: weight, dtype: float64"
      ]
     },
     "execution_count": 14,
     "metadata": {},
     "output_type": "execute_result"
    }
   ],
   "source": [
    "corr_matrix['weight'].sort_values(ascending=False)"
   ]
  },
  {
   "cell_type": "code",
   "execution_count": 15,
   "id": "7a2724a0-8a8e-44b3-8135-6823bcf01c08",
   "metadata": {},
   "outputs": [],
   "source": [
    "df_regression = df_clean[['weight','height','gender']]"
   ]
  },
  {
   "cell_type": "code",
   "execution_count": 16,
   "id": "03d98ea0-9d30-4c2b-b9ec-82a1acecc886",
   "metadata": {},
   "outputs": [
    {
     "data": {
      "text/plain": [
       "<Axes: xlabel='height', ylabel='weight'>"
      ]
     },
     "execution_count": 16,
     "metadata": {},
     "output_type": "execute_result"
    },
    {
     "data": {
      "image/png": "[encoded data removed]",
      "text/plain": [
       "<Figure size 640x480 with 1 Axes>"
      ]
     },
     "metadata": {},
     "output_type": "display_data"
    }
   ],
   "source": [
    "df_regression.plot(kind=\"scatter\", x=\"height\", y=\"weight\", grid=True)"
   ]
  },
  {
   "cell_type": "code",
   "execution_count": 17,
   "id": "6a3d578b-204b-423c-918b-38c3439f9595",
   "metadata": {},
   "outputs": [],
   "source": [
    "from sklearn.linear_model import LinearRegression\n",
    "from sklearn.model_selection import train_test_split\n",
    "from sklearn.metrics import r2_score,mean_absolute_percentage_error\n",
    "from sklearn.preprocessing import StandardScaler\n",
    "\n"
   ]
  },
  {
   "cell_type": "code",
   "execution_count": 18,
   "id": "860e3412-e009-4bf7-bdcf-1a60c5d0668e",
   "metadata": {},
   "outputs": [],
   "source": [
    "X = df_regression.drop(columns=['weight'])\n",
    "y = df_regression['weight']"
   ]
  },
  {
   "cell_type": "code",
   "execution_count": 19,
   "id": "b779a971-f0b1-4700-aead-cb6b54027903",
   "metadata": {},
   "outputs": [
    {
     "data": {
      "text/plain": [
       "0.8080421161531376"
      ]
     },
     "execution_count": 19,
     "metadata": {},
     "output_type": "execute_result"
    }
   ],
   "source": [
    "X_train, X_test, y_train,y_test = train_test_split(X,y,test_size=0.2)\n",
    "\n",
    "scaler = StandardScaler()\n",
    "X_train_scaled = scaler.fit_transform(X_train)\n",
    "X_test_scaled = scaler.transform(X_test)\n",
    "\n",
    "model = LinearRegression()\n",
    "model.fit(X_train_scaled, y_train)\n",
    "\n",
    "# Step 4: Predict using the scaled test data\n",
    "predictions = model.predict(X_test_scaled)\n",
    "\n",
    "r2 = r2_score(y_test, predictions)\n",
    "r2"
   ]
  },
  {
   "cell_type": "code",
   "execution_count": 20,
   "id": "f18df513-c43a-452e-b89a-fcd6c0a46800",
   "metadata": {},
   "outputs": [
    {
     "data": {
      "text/plain": [
       "0.05632717350772522"
      ]
     },
     "execution_count": 20,
     "metadata": {},
     "output_type": "execute_result"
    }
   ],
   "source": [
    "mape = mean_absolute_percentage_error(y_test, predictions)\n",
    "mape"
   ]
  },
  {
   "cell_type": "code",
   "execution_count": 21,
   "id": "88b9040b-bec0-40bc-9fc6-33888e57cb82",
   "metadata": {},
   "outputs": [
    {
     "data": {
      "text/plain": [
       "['scaler.joblib']"
      ]
     },
     "execution_count": 21,
     "metadata": {},
     "output_type": "execute_result"
    }
   ],
   "source": [
    "from joblib import dump,load\n",
    "\n",
    "# Save the trained model\n",
    "dump(model, 'linear_model.joblib')\n",
    "\n",
    "# Save the scaler\n",
    "dump(scaler, 'scaler.joblib')"
   ]
  },
  {
   "cell_type": "code",
   "execution_count": 22,
   "id": "bfb26897-c3af-4297-bc88-c10ac65e28e1",
   "metadata": {},
   "outputs": [
    {
     "name": "stderr",
     "output_type": "stream",
     "text": [
      "/home/anibal/miniconda3/envs/python-jupyter/lib/python3.13/site-packages/sklearn/utils/validation.py:2739: UserWarning: X does not have valid feature names, but StandardScaler was fitted with feature names\n",
      "  warnings.warn(\n"
     ]
    },
    {
     "data": {
      "text/plain": [
       "array([93.8628387])"
      ]
     },
     "execution_count": 22,
     "metadata": {},
     "output_type": "execute_result"
    }
   ],
   "source": [
    "# Load the scaler and model\n",
    "scaler = load('scaler.joblib')\n",
    "model = load('linear_model.joblib')\n",
    "\n",
    "# Example: Predict for new data\n",
    "new_data = [[190, 0]]  \n",
    "new_data_scaled = scaler.transform(new_data)\n",
    "prediction = model.predict(new_data_scaled)\n",
    "prediction"
   ]
  },
  {
   "cell_type": "code",
   "execution_count": null,
   "id": "3a66fa1c-ad78-421b-9c72-a84f51550019",
   "metadata": {},
   "outputs": [],
   "source": []
  }
 ],
 "metadata": {
  "kernelspec": {
   "display_name": "Python 3 (ipykernel)",
   "language": "python",
   "name": "python3"
  },
  "language_info": {
   "codemirror_mode": {
    "name": "ipython",
    "version": 3
   },
   "file_extension": ".py",
   "mimetype": "text/x-python",
   "name": "python",
   "nbconvert_exporter": "python",
   "pygments_lexer": "ipython3",
   "version": "3.13.2"
  }
 },
 "nbformat": 4,
 "nbformat_minor": 5
}
